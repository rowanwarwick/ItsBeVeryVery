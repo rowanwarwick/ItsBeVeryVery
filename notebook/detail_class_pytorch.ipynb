{
  "metadata": {
    "kernelspec": {
      "display_name": "Python 3",
      "name": "python3"
    },
    "language_info": {
      "name": "python",
      "version": "3.7.12",
      "mimetype": "text/x-python",
      "codemirror_mode": {
        "name": "ipython",
        "version": 3
      },
      "pygments_lexer": "ipython3",
      "nbconvert_exporter": "python",
      "file_extension": ".py"
    },
    "colab": {
      "provenance": [],
      "gpuType": "T4"
    },
    "accelerator": "GPU"
  },
  "nbformat_minor": 0,
  "nbformat": 4,
  "cells": [
    {
      "cell_type": "code",
      "source": [
        "import torchvision\n",
        "import torch\n",
        "from torchvision import transforms\n",
        "import pandas as pd\n",
        "import numpy as np\n",
        "from sklearn.model_selection import train_test_split\n",
        "from sklearn.metrics import f1_score\n",
        "from zipfile import ZipFile\n",
        "import random\n",
        "import PIL\n",
        "import os\n",
        "from matplotlib import pyplot as plt\n",
        "\n",
        "# for dirname, _, filenames in os.walk('/kaggle/input'):\n",
        "#    for filename in filenames:\n",
        "#       print(os.path.join(dirname, filename))\n",
        "\n",
        "# You can write up to 20GB to the current directory (/kaggle/working/) that gets preserved as output when you create a version using \"Save & Run All\"\n",
        "# You can also write temporary files to /kaggle/temp/, but they won't be saved outside of the current session"
      ],
      "metadata": {
        "_uuid": "8f2839f25d086af736a60e9eeb907d3b93b6e0e5",
        "_cell_guid": "b1076dfc-b9ad-4769-8c92-a6c4dae69d19",
        "execution": {
          "iopub.status.busy": "2022-11-15T11:31:07.804302Z",
          "iopub.execute_input": "2022-11-15T11:31:07.805170Z",
          "iopub.status.idle": "2022-11-15T11:31:11.441819Z",
          "shell.execute_reply.started": "2022-11-15T11:31:07.805088Z",
          "shell.execute_reply": "2022-11-15T11:31:11.440612Z"
        },
        "trusted": true,
        "id": "O6YtI9zKWVh8"
      },
      "execution_count": 1,
      "outputs": []
    },
    {
      "cell_type": "code",
      "source": [
        "from google.colab import drive\n",
        "drive.mount('/content/drive')"
      ],
      "metadata": {
        "colab": {
          "base_uri": "https://localhost:8080/"
        },
        "id": "nq2-HQhB49v3",
        "outputId": "c4ab847c-004d-4f2f-d24e-c0ce471a5819"
      },
      "execution_count": 2,
      "outputs": [
        {
          "output_type": "stream",
          "name": "stdout",
          "text": [
            "Mounted at /content/drive\n"
          ]
        }
      ]
    },
    {
      "cell_type": "code",
      "source": [],
      "metadata": {
        "id": "hkRCOSTifOJ8"
      },
      "execution_count": null,
      "outputs": []
    },
    {
      "cell_type": "markdown",
      "source": [
        "SEED EVERYTHING"
      ],
      "metadata": {
        "id": "515qKYLiWVh9"
      }
    },
    {
      "cell_type": "code",
      "source": [
        "torch.manual_seed(42)\n",
        "np.random.seed(42)\n",
        "random.seed(42)\n",
        "os.environ['PYTHONHASHSEED'] = str(42)\n",
        "torch.backends.cuda.matmul.allow_tf32 = True # for better mutrix multiplication"
      ],
      "metadata": {
        "execution": {
          "iopub.status.busy": "2022-11-15T11:31:24.241188Z",
          "iopub.execute_input": "2022-11-15T11:31:24.241814Z",
          "iopub.status.idle": "2022-11-15T11:31:24.259678Z",
          "shell.execute_reply.started": "2022-11-15T11:31:24.241772Z",
          "shell.execute_reply": "2022-11-15T11:31:24.258477Z"
        },
        "trusted": true,
        "id": "jIizxdt9WVh-"
      },
      "execution_count": 3,
      "outputs": []
    },
    {
      "cell_type": "markdown",
      "source": [
        "LOAD DATA"
      ],
      "metadata": {
        "id": "PYK1ICtMWVh-"
      }
    },
    {
      "cell_type": "code",
      "source": [
        "input_dir = '/content/drive/MyDrive/Детали'\n",
        "batch_size = 64\n",
        "rescale_size = 224\n",
        "device = torch.device('cuda') if torch.cuda.is_available() else torch.device('cpu')"
      ],
      "metadata": {
        "execution": {
          "iopub.status.busy": "2022-11-15T11:31:25.909346Z",
          "iopub.execute_input": "2022-11-15T11:31:25.910314Z",
          "iopub.status.idle": "2022-11-15T11:31:26.027758Z",
          "shell.execute_reply.started": "2022-11-15T11:31:25.910277Z",
          "shell.execute_reply": "2022-11-15T11:31:26.026491Z"
        },
        "trusted": true,
        "id": "-qWBFoRGWVh-"
      },
      "execution_count": 4,
      "outputs": []
    },
    {
      "cell_type": "code",
      "source": [
        "device"
      ],
      "metadata": {
        "execution": {
          "iopub.status.busy": "2022-11-15T11:31:27.166828Z",
          "iopub.execute_input": "2022-11-15T11:31:27.167556Z",
          "iopub.status.idle": "2022-11-15T11:31:27.176426Z",
          "shell.execute_reply.started": "2022-11-15T11:31:27.167511Z",
          "shell.execute_reply": "2022-11-15T11:31:27.175368Z"
        },
        "trusted": true,
        "id": "Ni0aRJPdWVh-",
        "outputId": "5d31b3e7-d6f0-494d-e6b2-7a016517445f",
        "colab": {
          "base_uri": "https://localhost:8080/"
        }
      },
      "execution_count": 5,
      "outputs": [
        {
          "output_type": "execute_result",
          "data": {
            "text/plain": [
              "device(type='cuda')"
            ]
          },
          "metadata": {},
          "execution_count": 5
        }
      ]
    },
    {
      "cell_type": "markdown",
      "source": [
        "Convert the image to a 255 x 255 image and normalize by mean and standard deviation from ImageNet"
      ],
      "metadata": {
        "id": "Be_eOj8WWVh_"
      }
    },
    {
      "cell_type": "code",
      "source": [
        "transform = transforms.Compose([\n",
        "    transforms.Resize((int(rescale_size * 1.25), int(rescale_size * 1.25))),\n",
        "    transforms.RandomCrop(rescale_size),\n",
        "    transforms.RandomHorizontalFlip(),\n",
        "    transforms.GaussianBlur(kernel_size=(5, 9), sigma=(0.1, 5)),\n",
        "    transforms.RandomPerspective(distortion_scale=0.5, p=0.8),\n",
        "    transforms.ToTensor(),\n",
        "    # transforms.Normalize([0.485, 0.456, 0.406], [0.229, 0.224, 0.225])\n",
        "])"
      ],
      "metadata": {
        "execution": {
          "iopub.status.busy": "2022-11-15T11:31:27.548265Z",
          "iopub.execute_input": "2022-11-15T11:31:27.548924Z",
          "iopub.status.idle": "2022-11-15T11:31:27.554640Z",
          "shell.execute_reply.started": "2022-11-15T11:31:27.548890Z",
          "shell.execute_reply": "2022-11-15T11:31:27.553478Z"
        },
        "trusted": true,
        "id": "rabKNBxuWVh_"
      },
      "execution_count": 30,
      "outputs": []
    },
    {
      "cell_type": "code",
      "source": [
        "dataset_full = torchvision.datasets.ImageFolder(root=input_dir, transform=transform)\n",
        "\n",
        "# split full dataset\n",
        "train_idx, valid_idx = train_test_split(list(range(len(dataset_full))), train_size=0.88)\n",
        "dataset = {\n",
        "    'train': torch.utils.data.Subset(dataset_full, train_idx),\n",
        "    'valid': torch.utils.data.Subset(dataset_full, valid_idx)\n",
        "}\n",
        "\n",
        "dataset_size = {ds: len(dataset[ds]) for ds in ['train', 'valid']}\n",
        "dataset_classes = np.array(dataset_full.classes)\n",
        "print('classes:', dataset_classes, '\\nsize', dataset_size)\n",
        "\n",
        "dataloader = {\n",
        "    'train': torch.utils.data.DataLoader(\n",
        "        dataset=dataset['train'], batch_size=batch_size, shuffle=True, num_workers=2\n",
        "    ),\n",
        "    'valid': torch.utils.data.DataLoader(\n",
        "        dataset=dataset['valid'], batch_size=batch_size, shuffle=False, num_workers=2\n",
        "    ),\n",
        "}"
      ],
      "metadata": {
        "execution": {
          "iopub.status.busy": "2022-11-15T11:31:27.910765Z",
          "iopub.execute_input": "2022-11-15T11:31:27.912689Z",
          "iopub.status.idle": "2022-11-15T11:31:35.858032Z",
          "shell.execute_reply.started": "2022-11-15T11:31:27.912647Z",
          "shell.execute_reply": "2022-11-15T11:31:35.856834Z"
        },
        "trusted": true,
        "id": "12SJlxGCWVh_",
        "outputId": "aa86641a-2f72-45f3-90bf-55bef22ab978",
        "colab": {
          "base_uri": "https://localhost:8080/"
        }
      },
      "execution_count": 31,
      "outputs": [
        {
          "output_type": "stream",
          "name": "stdout",
          "text": [
            "classes: ['CS120.01.413' 'CS120.07.442' 'CS150.01.427-01' 'SU160.00.404'\n",
            " 'SU80.01.426' 'SU80.10.409A' 'ЗВТ86.103К-02' 'СВМ.37.060' 'СВМ.37.060А'\n",
            " 'СВП-120.00.060' 'СВП120.42.020' 'СВП120.42.030' 'СК20.01.01.01.406'\n",
            " 'СК20.01.01.02.402' 'СК30.01.01.02.402' 'СК30.01.01.03.403'\n",
            " 'СК50.01.01.404' 'СК50.02.01.411' 'СПО250.14.190'] \n",
            "size {'train': 577, 'valid': 79}\n"
          ]
        }
      ]
    },
    {
      "cell_type": "code",
      "source": [
        "num_classes = len(dataset_classes)\n",
        "num_classes"
      ],
      "metadata": {
        "execution": {
          "iopub.status.busy": "2022-11-15T11:31:36.082473Z",
          "iopub.execute_input": "2022-11-15T11:31:36.083107Z",
          "iopub.status.idle": "2022-11-15T11:31:36.089756Z",
          "shell.execute_reply.started": "2022-11-15T11:31:36.083071Z",
          "shell.execute_reply": "2022-11-15T11:31:36.088687Z"
        },
        "trusted": true,
        "id": "UnveyZtvWViA",
        "outputId": "f1dea4f4-e979-4121-9be2-bc24f9d6c8b2",
        "colab": {
          "base_uri": "https://localhost:8080/"
        }
      },
      "execution_count": 32,
      "outputs": [
        {
          "output_type": "execute_result",
          "data": {
            "text/plain": [
              "19"
            ]
          },
          "metadata": {},
          "execution_count": 32
        }
      ]
    },
    {
      "cell_type": "markdown",
      "source": [
        "TRAINING LOOP"
      ],
      "metadata": {
        "id": "NtJbSrdsWViA"
      }
    },
    {
      "cell_type": "code",
      "source": [
        "from torch.cuda.amp import autocast, GradScaler\n",
        "import tqdm\n",
        "# from accelerate import Accelerator\n",
        "scaler = GradScaler()\n",
        "# accelerator = Accelerator(gradient_accumulation_steps=4, mixed_precision='fp16')\n",
        "\n",
        "def train_epoch(\n",
        "    model: torch.nn.Module,\n",
        "    optimizer: torch.optim,\n",
        "    criterion: torch.nn.modules.loss._Loss,\n",
        "    loader: torch.utils.data.DataLoader,\n",
        "    device: torch.device\n",
        "):\n",
        "    acc_loss = 0\n",
        "    total = len(loader.dataset)\n",
        "    # model.to(device)\n",
        "    model.train()\n",
        "    for data, target in tqdm.tqdm(loader):\n",
        "      # with accelerator.accumulate(model): # для имитации большого размера батча (полезно для трансформеров)\n",
        "        data = data.to(device)\n",
        "        target = target.to(device)\n",
        "        pred = torch.nn.functional.softmax(model(data), dim=-1)\n",
        "        # print(target)\n",
        "        loss = criterion(pred, target)\n",
        "        # scaler.scale(loss).backward()\n",
        "        # scaler.unscale_(optimizer)\n",
        "        # scaler.step(optimizer)\n",
        "        loss.backward()\n",
        "        # accelerator.backward(loss) # вместо loss.backward()\n",
        "        optimizer.step()\n",
        "        optimizer.zero_grad()\n",
        "        acc_loss += loss.item()\n",
        "    return acc_loss / total\n"
      ],
      "metadata": {
        "execution": {
          "iopub.status.busy": "2022-11-15T11:31:36.092878Z",
          "iopub.execute_input": "2022-11-15T11:31:36.093282Z",
          "iopub.status.idle": "2022-11-15T11:31:36.100805Z",
          "shell.execute_reply.started": "2022-11-15T11:31:36.093256Z",
          "shell.execute_reply": "2022-11-15T11:31:36.099634Z"
        },
        "trusted": true,
        "id": "UyPmApx_WViA"
      },
      "execution_count": 9,
      "outputs": []
    },
    {
      "cell_type": "code",
      "source": [
        "from collections import namedtuple\n",
        "from typing import NamedTuple, List"
      ],
      "metadata": {
        "execution": {
          "iopub.status.busy": "2022-11-15T11:31:36.102265Z",
          "iopub.execute_input": "2022-11-15T11:31:36.102901Z",
          "iopub.status.idle": "2022-11-15T11:31:36.116174Z",
          "shell.execute_reply.started": "2022-11-15T11:31:36.102867Z",
          "shell.execute_reply": "2022-11-15T11:31:36.115285Z"
        },
        "trusted": true,
        "id": "3IG5F_EaWViB"
      },
      "execution_count": 10,
      "outputs": []
    },
    {
      "cell_type": "code",
      "source": [
        "def get_lr(optimizer):\n",
        "    for param_group in optimizer.param_groups:\n",
        "        return param_group['lr']"
      ],
      "metadata": {
        "id": "Ti-VebHwLOD3"
      },
      "execution_count": 11,
      "outputs": []
    },
    {
      "cell_type": "code",
      "source": [
        "from collections import namedtuple\n",
        "from typing import NamedTuple, List\n",
        "from torch.utils.mobile_optimizer import optimize_for_mobile\n",
        "EvalOut = namedtuple(\"EvalOut\", ['loss', 'accuracy'])\n",
        "\n",
        "\n",
        "def eval_epoch(\n",
        "    model: torch.nn.Module,\n",
        "    criterion: torch.nn.modules.loss._Loss,\n",
        "    loader: torch.utils.data.DataLoader,\n",
        "    device: torch.device\n",
        "):\n",
        "    acc_loss = 0\n",
        "    accuracy = 0\n",
        "    total = len(loader.dataset)\n",
        "    model.eval()\n",
        "    # model.to(device)\n",
        "    with torch.inference_mode():\n",
        "        for data, target in loader:\n",
        "            data = data.to(device)\n",
        "            target = target.to(device)\n",
        "            pred = torch.nn.functional.softmax(model(data), dim=-1)\n",
        "            loss = criterion(pred, target)\n",
        "            acc_loss += loss.item()\n",
        "            accuracy += torch.sum(torch.argmax(pred, 1) == target).item()\n",
        "\n",
        "    return EvalOut(loss = (acc_loss / total), accuracy = (accuracy / total))\n",
        "\n",
        "\n",
        "class TrainOut(NamedTuple):\n",
        "    train_loss: List[float]\n",
        "    eval_loss: List[float]\n",
        "    eval_accuracy: List[float]\n",
        "\n",
        "\n",
        "def train(\n",
        "    model: torch.nn.Module,\n",
        "    optimizer: torch.optim,\n",
        "    criterion: torch.nn.modules.loss._Loss,\n",
        "    sheduler: torch.nn.Module,\n",
        "    train_loader: torch.utils.data.DataLoader,\n",
        "    val_loader: torch.utils.data.DataLoader,\n",
        "    device: torch.device,\n",
        "    epochs: int = 10\n",
        "):\n",
        "    train_loss = []\n",
        "    eval_loss = []\n",
        "    eval_accuracy = []\n",
        "    model.to(device)\n",
        "    for i in range(epochs):\n",
        "        print(f\"Epoch - {i}\\n\")\n",
        "        if (train_loader != None):\n",
        "            print(\"Train...\\n\")\n",
        "            train_loss.append(train_epoch(model, optimizer, criterion, train_loader, device))\n",
        "        print(\"Validation...\\n\")\n",
        "        eval_out = eval_epoch(model, criterion, val_loader, device)\n",
        "        eval_loss.append(eval_out.loss)\n",
        "        eval_accuracy.append(eval_out.accuracy)\n",
        "        print(f'Validation acc: {eval_out.accuracy}')\n",
        "        sheduler.step()\n",
        "        print('lr: ', get_lr(optimizer))\n",
        "        if i > 1 and eval_accuracy[i] == max(eval_accuracy):\n",
        "        # unwrapped_model = accelerator.unwrap_model(model)\n",
        "        # accelerator.save({\n",
        "          #    \"model\": model.state_dict(),\n",
        "            # \"optimizer\": optimizer.optimizer.state_dict() # optimizer is an AcceleratedOptimizer object\n",
        "          # }, \"/content/drive/MyDrive/accel.pth\")\n",
        "\n",
        "          torch.save({\n",
        "          'model_state_dict': model.state_dict(),\n",
        "          'optimizer_state_dict': optimizer.state_dict(),\n",
        "          }, f'/content/drive/MyDrive/detail_checkpoint_{i}_simple.pth')\n",
        "\n",
        "    return TrainOut(train_loss = train_loss,\n",
        "                    eval_loss = eval_loss,\n",
        "                    eval_accuracy = eval_accuracy), model\n"
      ],
      "metadata": {
        "execution": {
          "iopub.status.busy": "2022-11-15T11:31:36.117660Z",
          "iopub.execute_input": "2022-11-15T11:31:36.118280Z",
          "iopub.status.idle": "2022-11-15T11:31:36.128997Z",
          "shell.execute_reply.started": "2022-11-15T11:31:36.118187Z",
          "shell.execute_reply": "2022-11-15T11:31:36.128134Z"
        },
        "trusted": true,
        "id": "zGqiQVGKWViB"
      },
      "execution_count": 52,
      "outputs": []
    },
    {
      "cell_type": "markdown",
      "source": [
        "SHOW LOSSES"
      ],
      "metadata": {
        "id": "YwaQNh3NWViB"
      }
    },
    {
      "cell_type": "code",
      "source": [
        "def show_losses(TrainOut, epochs):\n",
        "    plt.plot(epochs, TrainOut.train_loss)\n",
        "    plt.plot(epochs, TrainOut.eval_loss)\n",
        "    plt.show()\n",
        "\n",
        "def show_accuracy(accuracy, epochs):\n",
        "    plt.plot(epochs, accuracy)\n",
        "    plt.show()"
      ],
      "metadata": {
        "execution": {
          "iopub.status.busy": "2022-11-15T11:31:36.144300Z",
          "iopub.execute_input": "2022-11-15T11:31:36.144997Z",
          "iopub.status.idle": "2022-11-15T11:31:36.156509Z",
          "shell.execute_reply.started": "2022-11-15T11:31:36.144956Z",
          "shell.execute_reply": "2022-11-15T11:31:36.155546Z"
        },
        "trusted": true,
        "id": "lWIA-bD2WViB"
      },
      "execution_count": 13,
      "outputs": []
    },
    {
      "cell_type": "code",
      "source": [
        "def predict(model, dataloader_test):\n",
        "    logits = []\n",
        "    model.eval()\n",
        "    with torch.no_grad():\n",
        "        for inputs, _ in dataloader_test:\n",
        "            inputs = inputs.to(device)\n",
        "            outputs = model(inputs).cpu()\n",
        "            logits.append(outputs)\n",
        "    probs = torch.nn.functional.softmax(torch.cat(logits), dim=-1).numpy()\n",
        "    return probs"
      ],
      "metadata": {
        "execution": {
          "iopub.status.busy": "2022-11-15T11:31:36.158179Z",
          "iopub.execute_input": "2022-11-15T11:31:36.158802Z",
          "iopub.status.idle": "2022-11-15T11:31:36.168076Z",
          "shell.execute_reply.started": "2022-11-15T11:31:36.158768Z",
          "shell.execute_reply": "2022-11-15T11:31:36.167080Z"
        },
        "trusted": true,
        "id": "1k8_Niv7WViB"
      },
      "execution_count": 16,
      "outputs": []
    },
    {
      "cell_type": "code",
      "source": [
        "def predict_to_submission(model, dataloader_test=test_loader, test_filenames=test_filenames, dataset_classes=dataset_classes):\n",
        "    probs = predict(model, dataloader_test)\n",
        "    print(probs.shape)\n",
        "    predictions = np.argmax(probs, axis=1)\n",
        "    preds = dataset_classes[predictions]\n",
        "    submission = pd.read_csv('/kaggle/input/journey-springfield/sample_submission.csv')\n",
        "    submission = pd.DataFrame({'Id': test_filenames, 'Expected': preds}).sort_values('Id')\n",
        "    submission.to_csv('./submission.csv', index=False)"
      ],
      "metadata": {
        "execution": {
          "iopub.status.busy": "2022-11-15T11:31:36.171386Z",
          "iopub.execute_input": "2022-11-15T11:31:36.171802Z",
          "iopub.status.idle": "2022-11-15T11:31:36.180756Z",
          "shell.execute_reply.started": "2022-11-15T11:31:36.171776Z",
          "shell.execute_reply": "2022-11-15T11:31:36.179825Z"
        },
        "trusted": true,
        "id": "KcrRP5_4WViB"
      },
      "execution_count": null,
      "outputs": []
    },
    {
      "cell_type": "markdown",
      "source": [
        "DEFINE MODEL"
      ],
      "metadata": {
        "id": "ZTu-VIF0WViB"
      }
    },
    {
      "cell_type": "markdown",
      "source": [
        "The base model will be a fine tuned ResNet"
      ],
      "metadata": {
        "id": "XWjGHvKxWViC"
      }
    },
    {
      "cell_type": "code",
      "source": [
        "from torchvision.models import resnet18"
      ],
      "metadata": {
        "execution": {
          "iopub.status.busy": "2022-11-15T11:31:36.182134Z",
          "iopub.execute_input": "2022-11-15T11:31:36.182494Z",
          "iopub.status.idle": "2022-11-15T11:31:36.195189Z",
          "shell.execute_reply.started": "2022-11-15T11:31:36.182461Z",
          "shell.execute_reply": "2022-11-15T11:31:36.194212Z"
        },
        "trusted": true,
        "id": "fZ_Z8gmNWViC"
      },
      "execution_count": 17,
      "outputs": []
    },
    {
      "cell_type": "code",
      "source": [
        "from torch import nn\n",
        "class SimpleCNN(nn.Module):\n",
        "    def __init__(self, num_classes):\n",
        "        super(SimpleCNN, self).__init__()\n",
        "        self.features = nn.Sequential(\n",
        "            nn.Conv2d(3, 32, kernel_size=3, stride=1, padding=1),\n",
        "            nn.ReLU(inplace=True),\n",
        "            nn.MaxPool2d(kernel_size=2, stride=2),\n",
        "            nn.Conv2d(32, 64, kernel_size=3, padding=1),\n",
        "            nn.ReLU(inplace=True),\n",
        "            nn.MaxPool2d(kernel_size=2, stride=2),\n",
        "            nn.Conv2d(64, 128, kernel_size=3, padding=1),\n",
        "            nn.ReLU(inplace=True),\n",
        "            nn.MaxPool2d(kernel_size=2, stride=2)\n",
        "        )\n",
        "\n",
        "        self.classifier = nn.Sequential(\n",
        "            nn.Dropout(),\n",
        "            nn.ReLU(inplace=True),\n",
        "            nn.Linear(100352, num_classes),\n",
        "        )\n",
        "\n",
        "    def forward(self, x):\n",
        "        x = self.features(x)\n",
        "        x = x.view(x.size(0), -1)\n",
        "        x = self.classifier(x)\n",
        "        return x\n"
      ],
      "metadata": {
        "id": "GU-c5nzYMwJN"
      },
      "execution_count": 53,
      "outputs": []
    },
    {
      "cell_type": "code",
      "source": [
        "class ServeSimpleCNN(torch.nn.Module):\n",
        "  def __init__(self):\n",
        "    super().__init__()\n",
        "    self.model = SimpleCNN(19)\n",
        "    # for param in self.mobilenet.parameters():\n",
        "    #   param.requires_grad = False\n",
        "\n",
        "    # for j in range(16, 18):\n",
        "    #   for param in self.mobilenet.features[j].parameters():\n",
        "    #     param.requires_grad = True\n",
        "\n",
        "    # for param in self.mobilenet.classifier.parameters():\n",
        "    #   param.requires_grad = True\n",
        "\n",
        "    # self.mobilenet.classifier[1] = torch.nn.Linear(1280, 19)\n",
        "\n",
        "    self.transforms =  torch.nn.Sequential(\n",
        "            T.Resize(224),  # We use single int value inside a list due to torchscript type restrictions\n",
        "#            T.ConvertImageDtype(torch.float),\n",
        "            T.Normalize([0.485, 0.456, 0.406], [0.229, 0.224, 0.225])\n",
        "        )\n",
        "\n",
        "  def forward(self, x: torch.Tensor) -> torch.Tensor:\n",
        "    x = self.transforms(x)\n",
        "    y = self.model(x)\n",
        "    return y"
      ],
      "metadata": {
        "id": "J06jVaGJM2IV"
      },
      "execution_count": 46,
      "outputs": []
    },
    {
      "cell_type": "code",
      "source": [
        "class ResNet(torch.nn.Module):\n",
        "    def __init__(self):\n",
        "        super().__init__()\n",
        "        self.resnet = resnet18(pretrained=True)\n",
        "        self.resnet.requires_grad_(False)\n",
        "        # self.resnet.layer3[1].requires_grad_(True)\n",
        "        self.resnet.layer4[1].requires_grad_(True)\n",
        "        self.classificator = torch.nn.Sequential(\n",
        "            torch.nn.Dropout(p=0.2, inplace=False),\n",
        "            torch.nn.Linear(1000, 256, bias=True),\n",
        "            torch.nn.ReLU(),\n",
        "            torch.nn.Linear(256, 19, bias=True)\n",
        "        )\n",
        "\n",
        "    def forward(self, x):\n",
        "        return self.classificator(self.resnet(x))\n"
      ],
      "metadata": {
        "execution": {
          "iopub.status.busy": "2022-11-15T11:31:36.196913Z",
          "iopub.execute_input": "2022-11-15T11:31:36.197754Z",
          "iopub.status.idle": "2022-11-15T11:31:36.206614Z",
          "shell.execute_reply.started": "2022-11-15T11:31:36.197719Z",
          "shell.execute_reply": "2022-11-15T11:31:36.205740Z"
        },
        "trusted": true,
        "id": "5Z0sDaBVWViC"
      },
      "execution_count": 18,
      "outputs": []
    },
    {
      "cell_type": "code",
      "source": [
        "import torchvision.transforms as T\n",
        "from torchvision.models import mobilenet_v2\n",
        "mobilenet = mobilenet_v2(weights='IMAGENET1K_V2')\n",
        "\n",
        "class MobileNet(torch.nn.Module):\n",
        "  def __init__(self):\n",
        "    super().__init__()\n",
        "    self.mobilenet = mobilenet_v2(weights='IMAGENET1K_V2')\n",
        "    for param in self.mobilenet.parameters():\n",
        "      param.requires_grad = False\n",
        "\n",
        "    for j in range(17, 19):\n",
        "      for param in self.mobilenet.features[j].parameters():\n",
        "        param.requires_grad = True\n",
        "\n",
        "    for param in self.mobilenet.classifier.parameters():\n",
        "      param.requires_grad = True\n",
        "\n",
        "    self.mobilenet.classifier[1] = torch.nn.Linear(1280, 19)\n",
        "\n",
        "    self.transforms =  torch.nn.Sequential(\n",
        "            T.Resize(224),  # We use single int value inside a list due to torchscript type restrictions\n",
        "#            T.ConvertImageDtype(torch.float),\n",
        "            T.Normalize([0.485, 0.456, 0.406], [0.229, 0.224, 0.225])\n",
        "        )\n",
        "\n",
        "  def forward(self, x: torch.Tensor) -> torch.Tensor:\n",
        "    x = self.transforms(x)\n",
        "    y = self.mobilenet(x)\n",
        "    return y"
      ],
      "metadata": {
        "id": "He5DYJ0xO8Go"
      },
      "execution_count": 58,
      "outputs": []
    },
    {
      "cell_type": "code",
      "source": [
        "model = MobileNet()\n",
        "# model = ServeSimpleCNN()"
      ],
      "metadata": {
        "execution": {
          "iopub.status.busy": "2022-11-15T07:33:24.917424Z",
          "iopub.execute_input": "2022-11-15T07:33:24.918430Z",
          "iopub.status.idle": "2022-11-15T07:33:27.670080Z",
          "shell.execute_reply.started": "2022-11-15T07:33:24.918387Z",
          "shell.execute_reply": "2022-11-15T07:33:27.669108Z"
        },
        "trusted": true,
        "id": "XFhvlvuxWViC"
      },
      "execution_count": 59,
      "outputs": []
    },
    {
      "cell_type": "code",
      "source": [
        "criterion = torch.nn.CrossEntropyLoss()\n",
        "optimizer = torch.optim.Adam(model.parameters(), lr=1e-3, weight_decay=1e-4)\n",
        "sheduler = torch.optim.lr_scheduler.ExponentialLR(optimizer, gamma=0.99)\n",
        "epochs = 60\n",
        "tr_tuple, model = train(model, optimizer, criterion, sheduler, dataloader['train'], dataloader['valid'], device, epochs)"
      ],
      "metadata": {
        "execution": {
          "iopub.status.busy": "2022-11-15T07:33:28.946410Z",
          "iopub.execute_input": "2022-11-15T07:33:28.946842Z",
          "iopub.status.idle": "2022-11-15T07:56:43.541408Z",
          "shell.execute_reply.started": "2022-11-15T07:33:28.946804Z",
          "shell.execute_reply": "2022-11-15T07:56:43.540125Z"
        },
        "trusted": true,
        "id": "LOXa6th_WViC",
        "outputId": "2e4e9e3f-e117-420b-8bae-5db88ec03d6b",
        "colab": {
          "base_uri": "https://localhost:8080/"
        }
      },
      "execution_count": null,
      "outputs": [
        {
          "output_type": "stream",
          "name": "stdout",
          "text": [
            "Epoch - 0\n",
            "\n",
            "Train...\n",
            "\n"
          ]
        },
        {
          "output_type": "stream",
          "name": "stderr",
          "text": [
            "100%|██████████| 10/10 [01:52<00:00, 11.23s/it]"
          ]
        },
        {
          "output_type": "stream",
          "name": "stdout",
          "text": [
            "Validation...\n",
            "\n"
          ]
        },
        {
          "output_type": "stream",
          "name": "stderr",
          "text": [
            "\n"
          ]
        },
        {
          "output_type": "stream",
          "name": "stdout",
          "text": [
            "Validation acc: 0.4810126582278481\n",
            "lr:  0.00099\n",
            "Epoch - 1\n",
            "\n",
            "Train...\n",
            "\n"
          ]
        },
        {
          "output_type": "stream",
          "name": "stderr",
          "text": [
            "100%|██████████| 10/10 [01:49<00:00, 10.97s/it]"
          ]
        },
        {
          "output_type": "stream",
          "name": "stdout",
          "text": [
            "Validation...\n",
            "\n"
          ]
        },
        {
          "output_type": "stream",
          "name": "stderr",
          "text": [
            "\n"
          ]
        },
        {
          "output_type": "stream",
          "name": "stdout",
          "text": [
            "Validation acc: 0.569620253164557\n",
            "lr:  0.0009801\n",
            "Epoch - 2\n",
            "\n",
            "Train...\n",
            "\n"
          ]
        },
        {
          "output_type": "stream",
          "name": "stderr",
          "text": [
            "100%|██████████| 10/10 [01:53<00:00, 11.31s/it]"
          ]
        },
        {
          "output_type": "stream",
          "name": "stdout",
          "text": [
            "Validation...\n",
            "\n"
          ]
        },
        {
          "output_type": "stream",
          "name": "stderr",
          "text": [
            "\n"
          ]
        },
        {
          "output_type": "stream",
          "name": "stdout",
          "text": [
            "Validation acc: 0.6582278481012658\n",
            "lr:  0.000970299\n",
            "Epoch - 3\n",
            "\n",
            "Train...\n",
            "\n"
          ]
        },
        {
          "output_type": "stream",
          "name": "stderr",
          "text": [
            "100%|██████████| 10/10 [01:50<00:00, 11.00s/it]"
          ]
        },
        {
          "output_type": "stream",
          "name": "stdout",
          "text": [
            "Validation...\n",
            "\n"
          ]
        },
        {
          "output_type": "stream",
          "name": "stderr",
          "text": [
            "\n"
          ]
        },
        {
          "output_type": "stream",
          "name": "stdout",
          "text": [
            "Validation acc: 0.7215189873417721\n",
            "lr:  0.0009605960099999999\n",
            "Epoch - 4\n",
            "\n",
            "Train...\n",
            "\n"
          ]
        },
        {
          "output_type": "stream",
          "name": "stderr",
          "text": [
            "100%|██████████| 10/10 [01:49<00:00, 10.96s/it]"
          ]
        },
        {
          "output_type": "stream",
          "name": "stdout",
          "text": [
            "Validation...\n",
            "\n"
          ]
        },
        {
          "output_type": "stream",
          "name": "stderr",
          "text": [
            "\n"
          ]
        },
        {
          "output_type": "stream",
          "name": "stdout",
          "text": [
            "Validation acc: 0.7215189873417721\n",
            "lr:  0.0009509900498999999\n",
            "Epoch - 5\n",
            "\n",
            "Train...\n",
            "\n"
          ]
        },
        {
          "output_type": "stream",
          "name": "stderr",
          "text": [
            "100%|██████████| 10/10 [01:49<00:00, 10.94s/it]"
          ]
        },
        {
          "output_type": "stream",
          "name": "stdout",
          "text": [
            "Validation...\n",
            "\n"
          ]
        },
        {
          "output_type": "stream",
          "name": "stderr",
          "text": [
            "\n"
          ]
        },
        {
          "output_type": "stream",
          "name": "stdout",
          "text": [
            "Validation acc: 0.8227848101265823\n",
            "lr:  0.0009414801494009999\n",
            "Epoch - 6\n",
            "\n",
            "Train...\n",
            "\n"
          ]
        },
        {
          "output_type": "stream",
          "name": "stderr",
          "text": [
            "100%|██████████| 10/10 [01:49<00:00, 10.99s/it]"
          ]
        },
        {
          "output_type": "stream",
          "name": "stdout",
          "text": [
            "Validation...\n",
            "\n"
          ]
        },
        {
          "output_type": "stream",
          "name": "stderr",
          "text": [
            "\n"
          ]
        },
        {
          "output_type": "stream",
          "name": "stdout",
          "text": [
            "Validation acc: 0.8227848101265823\n",
            "lr:  0.0009320653479069899\n",
            "Epoch - 7\n",
            "\n",
            "Train...\n",
            "\n"
          ]
        },
        {
          "output_type": "stream",
          "name": "stderr",
          "text": [
            "100%|██████████| 10/10 [01:49<00:00, 10.98s/it]"
          ]
        },
        {
          "output_type": "stream",
          "name": "stdout",
          "text": [
            "Validation...\n",
            "\n"
          ]
        },
        {
          "output_type": "stream",
          "name": "stderr",
          "text": [
            "\n"
          ]
        },
        {
          "output_type": "stream",
          "name": "stdout",
          "text": [
            "Validation acc: 0.7848101265822784\n",
            "lr:  0.00092274469442792\n",
            "Epoch - 8\n",
            "\n",
            "Train...\n",
            "\n"
          ]
        },
        {
          "output_type": "stream",
          "name": "stderr",
          "text": [
            "100%|██████████| 10/10 [01:49<00:00, 10.97s/it]"
          ]
        },
        {
          "output_type": "stream",
          "name": "stdout",
          "text": [
            "Validation...\n",
            "\n"
          ]
        },
        {
          "output_type": "stream",
          "name": "stderr",
          "text": [
            "\n"
          ]
        },
        {
          "output_type": "stream",
          "name": "stdout",
          "text": [
            "Validation acc: 0.810126582278481\n",
            "lr:  0.0009135172474836408\n",
            "Epoch - 9\n",
            "\n",
            "Train...\n",
            "\n"
          ]
        },
        {
          "output_type": "stream",
          "name": "stderr",
          "text": [
            "100%|██████████| 10/10 [01:49<00:00, 10.97s/it]"
          ]
        },
        {
          "output_type": "stream",
          "name": "stdout",
          "text": [
            "Validation...\n",
            "\n"
          ]
        },
        {
          "output_type": "stream",
          "name": "stderr",
          "text": [
            "\n"
          ]
        },
        {
          "output_type": "stream",
          "name": "stdout",
          "text": [
            "Validation acc: 0.810126582278481\n",
            "lr:  0.0009043820750088043\n",
            "Epoch - 10\n",
            "\n",
            "Train...\n",
            "\n"
          ]
        },
        {
          "output_type": "stream",
          "name": "stderr",
          "text": [
            "100%|██████████| 10/10 [01:49<00:00, 10.98s/it]"
          ]
        },
        {
          "output_type": "stream",
          "name": "stdout",
          "text": [
            "Validation...\n",
            "\n"
          ]
        },
        {
          "output_type": "stream",
          "name": "stderr",
          "text": [
            "\n"
          ]
        },
        {
          "output_type": "stream",
          "name": "stdout",
          "text": [
            "Validation acc: 0.810126582278481\n",
            "lr:  0.0008953382542587163\n",
            "Epoch - 11\n",
            "\n",
            "Train...\n",
            "\n"
          ]
        },
        {
          "output_type": "stream",
          "name": "stderr",
          "text": [
            "100%|██████████| 10/10 [01:49<00:00, 10.96s/it]"
          ]
        },
        {
          "output_type": "stream",
          "name": "stdout",
          "text": [
            "Validation...\n",
            "\n"
          ]
        },
        {
          "output_type": "stream",
          "name": "stderr",
          "text": [
            "\n"
          ]
        },
        {
          "output_type": "stream",
          "name": "stdout",
          "text": [
            "Validation acc: 0.8607594936708861\n",
            "lr:  0.0008863848717161291\n",
            "Epoch - 12\n",
            "\n",
            "Train...\n",
            "\n"
          ]
        },
        {
          "output_type": "stream",
          "name": "stderr",
          "text": [
            "100%|██████████| 10/10 [01:49<00:00, 10.98s/it]"
          ]
        },
        {
          "output_type": "stream",
          "name": "stdout",
          "text": [
            "Validation...\n",
            "\n"
          ]
        },
        {
          "output_type": "stream",
          "name": "stderr",
          "text": [
            "\n"
          ]
        },
        {
          "output_type": "stream",
          "name": "stdout",
          "text": [
            "Validation acc: 0.7974683544303798\n",
            "lr:  0.0008775210229989678\n",
            "Epoch - 13\n",
            "\n",
            "Train...\n",
            "\n"
          ]
        },
        {
          "output_type": "stream",
          "name": "stderr",
          "text": [
            "100%|██████████| 10/10 [01:49<00:00, 10.91s/it]"
          ]
        },
        {
          "output_type": "stream",
          "name": "stdout",
          "text": [
            "Validation...\n",
            "\n"
          ]
        },
        {
          "output_type": "stream",
          "name": "stderr",
          "text": [
            "\n"
          ]
        },
        {
          "output_type": "stream",
          "name": "stdout",
          "text": [
            "Validation acc: 0.8227848101265823\n",
            "lr:  0.0008687458127689781\n",
            "Epoch - 14\n",
            "\n",
            "Train...\n",
            "\n"
          ]
        },
        {
          "output_type": "stream",
          "name": "stderr",
          "text": [
            "100%|██████████| 10/10 [01:49<00:00, 10.92s/it]"
          ]
        },
        {
          "output_type": "stream",
          "name": "stdout",
          "text": [
            "Validation...\n",
            "\n"
          ]
        },
        {
          "output_type": "stream",
          "name": "stderr",
          "text": [
            "\n"
          ]
        },
        {
          "output_type": "stream",
          "name": "stdout",
          "text": [
            "Validation acc: 0.8481012658227848\n",
            "lr:  0.0008600583546412883\n",
            "Epoch - 15\n",
            "\n",
            "Train...\n",
            "\n"
          ]
        },
        {
          "output_type": "stream",
          "name": "stderr",
          "text": [
            "100%|██████████| 10/10 [01:53<00:00, 11.33s/it]"
          ]
        },
        {
          "output_type": "stream",
          "name": "stdout",
          "text": [
            "Validation...\n",
            "\n"
          ]
        },
        {
          "output_type": "stream",
          "name": "stderr",
          "text": [
            "\n"
          ]
        },
        {
          "output_type": "stream",
          "name": "stdout",
          "text": [
            "Validation acc: 0.8354430379746836\n",
            "lr:  0.0008514577710948754\n",
            "Epoch - 16\n",
            "\n",
            "Train...\n",
            "\n"
          ]
        },
        {
          "output_type": "stream",
          "name": "stderr",
          "text": [
            "100%|██████████| 10/10 [01:48<00:00, 10.81s/it]"
          ]
        },
        {
          "output_type": "stream",
          "name": "stdout",
          "text": [
            "Validation...\n",
            "\n"
          ]
        },
        {
          "output_type": "stream",
          "name": "stderr",
          "text": [
            "\n"
          ]
        },
        {
          "output_type": "stream",
          "name": "stdout",
          "text": [
            "Validation acc: 0.8607594936708861\n",
            "lr:  0.0008429431933839266\n",
            "Epoch - 17\n",
            "\n",
            "Train...\n",
            "\n"
          ]
        },
        {
          "output_type": "stream",
          "name": "stderr",
          "text": [
            "100%|██████████| 10/10 [01:46<00:00, 10.69s/it]"
          ]
        },
        {
          "output_type": "stream",
          "name": "stdout",
          "text": [
            "Validation...\n",
            "\n"
          ]
        },
        {
          "output_type": "stream",
          "name": "stderr",
          "text": [
            "\n"
          ]
        },
        {
          "output_type": "stream",
          "name": "stdout",
          "text": [
            "Validation acc: 0.8227848101265823\n",
            "lr:  0.0008345137614500873\n",
            "Epoch - 18\n",
            "\n",
            "Train...\n",
            "\n"
          ]
        },
        {
          "output_type": "stream",
          "name": "stderr",
          "text": [
            "100%|██████████| 10/10 [01:50<00:00, 11.08s/it]"
          ]
        },
        {
          "output_type": "stream",
          "name": "stdout",
          "text": [
            "Validation...\n",
            "\n"
          ]
        },
        {
          "output_type": "stream",
          "name": "stderr",
          "text": [
            "\n"
          ]
        },
        {
          "output_type": "stream",
          "name": "stdout",
          "text": [
            "Validation acc: 0.8860759493670886\n",
            "lr:  0.0008261686238355864\n",
            "Epoch - 19\n",
            "\n",
            "Train...\n",
            "\n"
          ]
        },
        {
          "output_type": "stream",
          "name": "stderr",
          "text": [
            "100%|██████████| 10/10 [01:47<00:00, 10.72s/it]"
          ]
        },
        {
          "output_type": "stream",
          "name": "stdout",
          "text": [
            "Validation...\n",
            "\n"
          ]
        },
        {
          "output_type": "stream",
          "name": "stderr",
          "text": [
            "\n"
          ]
        },
        {
          "output_type": "stream",
          "name": "stdout",
          "text": [
            "Validation acc: 0.8607594936708861\n",
            "lr:  0.0008179069375972306\n",
            "Epoch - 20\n",
            "\n",
            "Train...\n",
            "\n"
          ]
        },
        {
          "output_type": "stream",
          "name": "stderr",
          "text": [
            "100%|██████████| 10/10 [01:46<00:00, 10.69s/it]"
          ]
        },
        {
          "output_type": "stream",
          "name": "stdout",
          "text": [
            "Validation...\n",
            "\n"
          ]
        },
        {
          "output_type": "stream",
          "name": "stderr",
          "text": [
            "\n"
          ]
        },
        {
          "output_type": "stream",
          "name": "stdout",
          "text": [
            "Validation acc: 0.8607594936708861\n",
            "lr:  0.0008097278682212583\n",
            "Epoch - 21\n",
            "\n",
            "Train...\n",
            "\n"
          ]
        },
        {
          "output_type": "stream",
          "name": "stderr",
          "text": [
            "100%|██████████| 10/10 [01:51<00:00, 11.15s/it]"
          ]
        },
        {
          "output_type": "stream",
          "name": "stdout",
          "text": [
            "Validation...\n",
            "\n"
          ]
        },
        {
          "output_type": "stream",
          "name": "stderr",
          "text": [
            "\n"
          ]
        },
        {
          "output_type": "stream",
          "name": "stdout",
          "text": [
            "Validation acc: 0.8481012658227848\n",
            "lr:  0.0008016305895390457\n",
            "Epoch - 22\n",
            "\n",
            "Train...\n",
            "\n"
          ]
        },
        {
          "output_type": "stream",
          "name": "stderr",
          "text": [
            "100%|██████████| 10/10 [01:46<00:00, 10.68s/it]"
          ]
        },
        {
          "output_type": "stream",
          "name": "stdout",
          "text": [
            "Validation...\n",
            "\n"
          ]
        },
        {
          "output_type": "stream",
          "name": "stderr",
          "text": [
            "\n"
          ]
        },
        {
          "output_type": "stream",
          "name": "stdout",
          "text": [
            "Validation acc: 0.8354430379746836\n",
            "lr:  0.0007936142836436553\n",
            "Epoch - 23\n",
            "\n",
            "Train...\n",
            "\n"
          ]
        },
        {
          "output_type": "stream",
          "name": "stderr",
          "text": [
            "100%|██████████| 10/10 [01:46<00:00, 10.65s/it]"
          ]
        },
        {
          "output_type": "stream",
          "name": "stdout",
          "text": [
            "Validation...\n",
            "\n"
          ]
        },
        {
          "output_type": "stream",
          "name": "stderr",
          "text": [
            "\n"
          ]
        },
        {
          "output_type": "stream",
          "name": "stdout",
          "text": [
            "Validation acc: 0.8987341772151899\n",
            "lr:  0.0007856781408072188\n",
            "Epoch - 24\n",
            "\n",
            "Train...\n",
            "\n"
          ]
        },
        {
          "output_type": "stream",
          "name": "stderr",
          "text": [
            "100%|██████████| 10/10 [01:50<00:00, 11.10s/it]"
          ]
        },
        {
          "output_type": "stream",
          "name": "stdout",
          "text": [
            "Validation...\n",
            "\n"
          ]
        },
        {
          "output_type": "stream",
          "name": "stderr",
          "text": [
            "\n"
          ]
        },
        {
          "output_type": "stream",
          "name": "stdout",
          "text": [
            "Validation acc: 0.8354430379746836\n",
            "lr:  0.0007778213593991466\n",
            "Epoch - 25\n",
            "\n",
            "Train...\n",
            "\n"
          ]
        },
        {
          "output_type": "stream",
          "name": "stderr",
          "text": [
            "100%|██████████| 10/10 [01:47<00:00, 10.77s/it]"
          ]
        },
        {
          "output_type": "stream",
          "name": "stdout",
          "text": [
            "Validation...\n",
            "\n"
          ]
        },
        {
          "output_type": "stream",
          "name": "stderr",
          "text": [
            "\n"
          ]
        },
        {
          "output_type": "stream",
          "name": "stdout",
          "text": [
            "Validation acc: 0.8734177215189873\n",
            "lr:  0.000770043145805155\n",
            "Epoch - 26\n",
            "\n",
            "Train...\n",
            "\n"
          ]
        },
        {
          "output_type": "stream",
          "name": "stderr",
          "text": [
            "100%|██████████| 10/10 [01:48<00:00, 10.83s/it]"
          ]
        },
        {
          "output_type": "stream",
          "name": "stdout",
          "text": [
            "Validation...\n",
            "\n"
          ]
        },
        {
          "output_type": "stream",
          "name": "stderr",
          "text": [
            "\n"
          ]
        },
        {
          "output_type": "stream",
          "name": "stdout",
          "text": [
            "Validation acc: 0.7848101265822784\n",
            "lr:  0.0007623427143471034\n",
            "Epoch - 27\n",
            "\n",
            "Train...\n",
            "\n"
          ]
        },
        {
          "output_type": "stream",
          "name": "stderr",
          "text": [
            "100%|██████████| 10/10 [01:52<00:00, 11.24s/it]"
          ]
        },
        {
          "output_type": "stream",
          "name": "stdout",
          "text": [
            "Validation...\n",
            "\n"
          ]
        },
        {
          "output_type": "stream",
          "name": "stderr",
          "text": [
            "\n"
          ]
        },
        {
          "output_type": "stream",
          "name": "stdout",
          "text": [
            "Validation acc: 0.8481012658227848\n",
            "lr:  0.0007547192872036325\n",
            "Epoch - 28\n",
            "\n",
            "Train...\n",
            "\n"
          ]
        },
        {
          "output_type": "stream",
          "name": "stderr",
          "text": [
            "100%|██████████| 10/10 [01:47<00:00, 10.75s/it]"
          ]
        },
        {
          "output_type": "stream",
          "name": "stdout",
          "text": [
            "Validation...\n",
            "\n"
          ]
        },
        {
          "output_type": "stream",
          "name": "stderr",
          "text": [
            "\n"
          ]
        },
        {
          "output_type": "stream",
          "name": "stdout",
          "text": [
            "Validation acc: 0.8354430379746836\n",
            "lr:  0.0007471720943315961\n",
            "Epoch - 29\n",
            "\n",
            "Train...\n",
            "\n"
          ]
        },
        {
          "output_type": "stream",
          "name": "stderr",
          "text": [
            "100%|██████████| 10/10 [01:46<00:00, 10.67s/it]"
          ]
        },
        {
          "output_type": "stream",
          "name": "stdout",
          "text": [
            "Validation...\n",
            "\n"
          ]
        },
        {
          "output_type": "stream",
          "name": "stderr",
          "text": [
            "\n"
          ]
        },
        {
          "output_type": "stream",
          "name": "stdout",
          "text": [
            "Validation acc: 0.8860759493670886\n",
            "lr:  0.0007397003733882801\n",
            "Epoch - 30\n",
            "\n",
            "Train...\n",
            "\n"
          ]
        },
        {
          "output_type": "stream",
          "name": "stderr",
          "text": [
            "\r  0%|          | 0/10 [00:00<?, ?it/s]"
          ]
        }
      ]
    },
    {
      "cell_type": "code",
      "source": [
        "show_losses(tr_tuple, list(range(epochs)))\n",
        "show_accuracy(tr_tuple.eval_accuracy, list(range(epochs)))"
      ],
      "metadata": {
        "execution": {
          "iopub.status.busy": "2022-11-15T07:57:48.650636Z",
          "iopub.execute_input": "2022-11-15T07:57:48.651006Z",
          "iopub.status.idle": "2022-11-15T07:57:49.008092Z",
          "shell.execute_reply.started": "2022-11-15T07:57:48.650975Z",
          "shell.execute_reply": "2022-11-15T07:57:49.007118Z"
        },
        "trusted": true,
        "id": "BppEAbvmWViD"
      },
      "execution_count": null,
      "outputs": []
    },
    {
      "cell_type": "code",
      "source": [
        "model.eval()\n",
        "tens = torch.rand(1, 3, 224, 224)\n",
        "torchscript_model = torch.jit.trace(model, tens.cuda())\n",
        "torchscript_model_optimized = optimize_for_mobile(torchscript_model)\n",
        "torchscript_model_optimized._save_for_lite_interpreter(f\"/content/drive/MyDrive/mobilenet_lite_last_1.ptl\")\n"
      ],
      "metadata": {
        "id": "E-Gm8JGFTiET"
      },
      "execution_count": null,
      "outputs": []
    },
    {
      "cell_type": "markdown",
      "source": [
        "TEST DATSET"
      ],
      "metadata": {
        "id": "jQLSyzY1WViD"
      }
    },
    {
      "cell_type": "code",
      "source": [
        "predict_to_submission(model)"
      ],
      "metadata": {
        "execution": {
          "iopub.status.busy": "2022-11-15T07:57:40.144895Z",
          "iopub.execute_input": "2022-11-15T07:57:40.145505Z",
          "iopub.status.idle": "2022-11-15T07:57:47.607198Z",
          "shell.execute_reply.started": "2022-11-15T07:57:40.145466Z",
          "shell.execute_reply": "2022-11-15T07:57:47.606173Z"
        },
        "trusted": true,
        "id": "_piEopZ0WViD",
        "outputId": "cd2c5744-8f03-4532-b3b1-752934ae842b"
      },
      "execution_count": null,
      "outputs": [
        {
          "name": "stdout",
          "text": "(991, 42)\n",
          "output_type": "stream"
        }
      ]
    },
    {
      "cell_type": "markdown",
      "source": [
        "LET`S TRY SOME ENSEMBLES!"
      ],
      "metadata": {
        "id": "U6gqDzccWViD"
      }
    },
    {
      "cell_type": "code",
      "source": [
        "def predict_bagging(models, dataloader_test):\n",
        "    logits = []\n",
        "    for model in models:\n",
        "        model.eval()\n",
        "    with torch.no_grad():\n",
        "        for inputs, _ in dataloader_test:\n",
        "            model_logits = []\n",
        "            for model in models:\n",
        "                inputs = inputs.to(device)\n",
        "                outputs = model(inputs).cpu()\n",
        "                model_logits.append(outputs)\n",
        "            logits.append(sum(model_logits) / len(models))\n",
        "    probs = torch.nn.functional.softmax(torch.cat(logits), dim=-1).numpy()\n",
        "    return probs"
      ],
      "metadata": {
        "execution": {
          "iopub.status.busy": "2022-11-15T11:31:50.538461Z",
          "iopub.execute_input": "2022-11-15T11:31:50.539500Z",
          "iopub.status.idle": "2022-11-15T11:31:50.546321Z",
          "shell.execute_reply.started": "2022-11-15T11:31:50.539443Z",
          "shell.execute_reply": "2022-11-15T11:31:50.545290Z"
        },
        "trusted": true,
        "id": "Io14uwt_WViD"
      },
      "execution_count": null,
      "outputs": []
    },
    {
      "cell_type": "code",
      "source": [
        "def predict_to_submission_bagging(models, dataloader_test=test_loader, test_filenames=test_filenames, dataset_classes=dataset_classes):\n",
        "    probs = predict_bagging(models, dataloader_test)\n",
        "    print(probs.shape)\n",
        "    predictions = np.argmax(probs, axis=1)\n",
        "    preds = dataset_classes[predictions]\n",
        "    submission = pd.read_csv('/kaggle/input/journey-springfield/sample_submission.csv')\n",
        "    submission = pd.DataFrame({'Id': test_filenames, 'Expected': preds}).sort_values('Id')\n",
        "    submission.to_csv('./submission_bag.csv', index=False)"
      ],
      "metadata": {
        "execution": {
          "iopub.status.busy": "2022-11-15T11:31:50.998260Z",
          "iopub.execute_input": "2022-11-15T11:31:50.999451Z",
          "iopub.status.idle": "2022-11-15T11:31:51.006441Z",
          "shell.execute_reply.started": "2022-11-15T11:31:50.999376Z",
          "shell.execute_reply": "2022-11-15T11:31:51.005369Z"
        },
        "trusted": true,
        "id": "O5toJu0TWViD"
      },
      "execution_count": null,
      "outputs": []
    },
    {
      "cell_type": "code",
      "source": [
        "models = [ResNet() for i in range(5)]"
      ],
      "metadata": {
        "execution": {
          "iopub.status.busy": "2022-11-15T11:31:54.086533Z",
          "iopub.execute_input": "2022-11-15T11:31:54.087394Z",
          "iopub.status.idle": "2022-11-15T11:31:59.796484Z",
          "shell.execute_reply.started": "2022-11-15T11:31:54.087349Z",
          "shell.execute_reply": "2022-11-15T11:31:59.795469Z"
        },
        "trusted": true,
        "colab": {
          "referenced_widgets": [
            "205685796e9b4404aea28ac1fb7f569d"
          ]
        },
        "id": "d6Y5O3YNWViD",
        "outputId": "3ff8baef-0ecf-4058-a1ec-233f8028fd12"
      },
      "execution_count": null,
      "outputs": [
        {
          "name": "stderr",
          "text": "Downloading: \"https://download.pytorch.org/models/resnet18-f37072fd.pth\" to /root/.cache/torch/hub/checkpoints/resnet18-f37072fd.pth\n",
          "output_type": "stream"
        },
        {
          "output_type": "display_data",
          "data": {
            "text/plain": "  0%|          | 0.00/44.7M [00:00<?, ?B/s]",
            "application/vnd.jupyter.widget-view+json": {
              "version_major": 2,
              "version_minor": 0,
              "model_id": "205685796e9b4404aea28ac1fb7f569d"
            }
          },
          "metadata": {}
        }
      ]
    },
    {
      "cell_type": "code",
      "source": [
        "for i, model in enumerate(models):\n",
        "    print(f\"\\t\\t\\tModel #{i}:\\n\")\n",
        "    criterion = torch.nn.CrossEntropyLoss()\n",
        "    optimizer = torch.optim.Adam(model.parameters(), lr=1e-3, weight_decay=1e-4)\n",
        "    sheduler = torch.optim.lr_scheduler.ExponentialLR(optimizer, gamma=0.9)\n",
        "    epochs = 8\n",
        "    tr_tuple = train(model, optimizer, criterion, sheduler, dataloader['train'], dataloader['valid'], device, epochs)\n",
        "    print(f\"Model #{i} best accuracy: \", max(tr_tuple.eval_accuracy))\n",
        "    show_losses(tr_tuple, list(range(epochs)))\n",
        "    show_accuracy(tr_tuple.eval_accuracy, list(range(epochs)))"
      ],
      "metadata": {
        "execution": {
          "iopub.status.busy": "2022-11-15T11:32:01.240972Z",
          "iopub.execute_input": "2022-11-15T11:32:01.241865Z",
          "iopub.status.idle": "2022-11-15T13:00:09.010235Z",
          "shell.execute_reply.started": "2022-11-15T11:32:01.241818Z",
          "shell.execute_reply": "2022-11-15T13:00:09.009104Z"
        },
        "trusted": true,
        "id": "04BMtltAWViD",
        "outputId": "974c47c4-c30f-4b59-ea1d-6c1a79d3058f"
      },
      "execution_count": null,
      "outputs": [
        {
          "name": "stdout",
          "text": "\t\t\tModel #0:\n\nEpoch - 0\n\nTrain...\n\nValidation...\n\nEpoch - 1\n\nTrain...\n\nValidation...\n\nEpoch - 2\n\nTrain...\n\nValidation...\n\nEpoch - 3\n\nTrain...\n\nValidation...\n\nEpoch - 4\n\nTrain...\n\nValidation...\n\nEpoch - 5\n\nTrain...\n\nValidation...\n\nEpoch - 6\n\nTrain...\n\nValidation...\n\nEpoch - 7\n\nTrain...\n\nValidation...\n\nModel #0 best accuracy:  0.9594078319006686\n",
          "output_type": "stream"
        },
        {
          "output_type": "display_data",
          "data": {
            "text/plain": "<Figure size 432x288 with 1 Axes>",
            "image/png": "[encoded data removed]"
          },
          "metadata": {
            "needs_background": "light"
          }
        },
        {
          "output_type": "display_data",
          "data": {
            "text/plain": "<Figure size 432x288 with 1 Axes>",
            "image/png": "[encoded data removed]"
          },
          "metadata": {
            "needs_background": "light"
          }
        },
        {
          "name": "stdout",
          "text": "\t\t\tModel #1:\n\nEpoch - 0\n\nTrain...\n\nValidation...\n\nEpoch - 1\n\nTrain...\n\nValidation...\n\nEpoch - 2\n\nTrain...\n\nValidation...\n\nEpoch - 3\n\nTrain...\n\nValidation...\n\nEpoch - 4\n\nTrain...\n\nValidation...\n\nEpoch - 5\n\nTrain...\n\nValidation...\n\nEpoch - 6\n\nTrain...\n\nValidation...\n\nEpoch - 7\n\nTrain...\n\nValidation...\n\nModel #1 best accuracy:  0.9603629417383\n",
          "output_type": "stream"
        },
        {
          "output_type": "display_data",
          "data": {
            "text/plain": "<Figure size 432x288 with 1 Axes>",
            "image/png": "[encoded data removed]"
          },
          "metadata": {
            "needs_background": "light"
          }
        },
        {
          "output_type": "display_data",
          "data": {
            "text/plain": "<Figure size 432x288 with 1 Axes>",
            "image/png": "[encoded data removed]"
          },
          "metadata": {
            "needs_background": "light"
          }
        },
        {
          "name": "stdout",
          "text": "\t\t\tModel #2:\n\nEpoch - 0\n\nTrain...\n\nValidation...\n\nEpoch - 1\n\nTrain...\n\nValidation...\n\nEpoch - 2\n\nTrain...\n\nValidation...\n\nEpoch - 3\n\nTrain...\n\nValidation...\n\nEpoch - 4\n\nTrain...\n\nValidation...\n\nEpoch - 5\n\nTrain...\n\nValidation...\n\nEpoch - 6\n\nTrain...\n\nValidation...\n\nEpoch - 7\n\nTrain...\n\nValidation...\n\nModel #2 best accuracy:  0.9579751671442216\n",
          "output_type": "stream"
        },
        {
          "output_type": "display_data",
          "data": {
            "text/plain": "<Figure size 432x288 with 1 Axes>",
            "image/png": "[encoded data removed]"
          },
          "metadata": {
            "needs_background": "light"
          }
        },
        {
          "output_type": "display_data",
          "data": {
            "text/plain": "<Figure size 432x288 with 1 Axes>",
            "image/png": "[encoded data removed]"
          },
          "metadata": {
            "needs_background": "light"
          }
        },
        {
          "name": "stdout",
          "text": "\t\t\tModel #3:\n\nEpoch - 0\n\nTrain...\n\nValidation...\n\nEpoch - 1\n\nTrain...\n\nValidation...\n\nEpoch - 2\n\nTrain...\n\nValidation...\n\nEpoch - 3\n\nTrain...\n\nValidation...\n\nEpoch - 4\n\nTrain...\n\nValidation...\n\nEpoch - 5\n\nTrain...\n\nValidation...\n\nEpoch - 6\n\nTrain...\n\nValidation...\n\nEpoch - 7\n\nTrain...\n\nValidation...\n\nModel #3 best accuracy:  0.9632282712511939\n",
          "output_type": "stream"
        },
        {
          "output_type": "display_data",
          "data": {
            "text/plain": "<Figure size 432x288 with 1 Axes>",
            "image/png": "[encoded data removed]"
          },
          "metadata": {
            "needs_background": "light"
          }
        },
        {
          "output_type": "display_data",
          "data": {
            "text/plain": "<Figure size 432x288 with 1 Axes>",
            "image/png": "[encoded data removed]"
          },
          "metadata": {
            "needs_background": "light"
          }
        },
        {
          "name": "stdout",
          "text": "\t\t\tModel #4:\n\nEpoch - 0\n\nTrain...\n\nValidation...\n\nEpoch - 1\n\nTrain...\n\nValidation...\n\nEpoch - 2\n\nTrain...\n\nValidation...\n\nEpoch - 3\n\nTrain...\n\nValidation...\n\nEpoch - 4\n\nTrain...\n\nValidation...\n\nEpoch - 5\n\nTrain...\n\nValidation...\n\nEpoch - 6\n\nTrain...\n\nValidation...\n\nEpoch - 7\n\nTrain...\n\nValidation...\n\nModel #4 best accuracy:  0.9541547277936963\n",
          "output_type": "stream"
        },
        {
          "output_type": "display_data",
          "data": {
            "text/plain": "<Figure size 432x288 with 1 Axes>",
            "image/png": "[encoded data removed]"
          },
          "metadata": {
            "needs_background": "light"
          }
        },
        {
          "output_type": "display_data",
          "data": {
            "text/plain": "<Figure size 432x288 with 1 Axes>",
            "image/png": "[encoded data removed]"
          },
          "metadata": {
            "needs_background": "light"
          }
        }
      ]
    },
    {
      "cell_type": "code",
      "source": [
        "predict_to_submission_bagging(models)"
      ],
      "metadata": {
        "execution": {
          "iopub.status.busy": "2022-11-15T13:00:09.012512Z",
          "iopub.execute_input": "2022-11-15T13:00:09.013234Z",
          "iopub.status.idle": "2022-11-15T13:00:16.638024Z",
          "shell.execute_reply.started": "2022-11-15T13:00:09.013189Z",
          "shell.execute_reply": "2022-11-15T13:00:16.636127Z"
        },
        "trusted": true,
        "id": "Uw30YwilWViE",
        "outputId": "88e428b4-4384-4560-ee3b-1533bb47b9a8"
      },
      "execution_count": null,
      "outputs": [
        {
          "name": "stdout",
          "text": "(991, 42)\n",
          "output_type": "stream"
        }
      ]
    },
    {
      "cell_type": "markdown",
      "source": [
        "The ensembles gave quality on the best test"
      ],
      "metadata": {
        "id": "uJaj9FiOWViE"
      }
    }
  ]
}